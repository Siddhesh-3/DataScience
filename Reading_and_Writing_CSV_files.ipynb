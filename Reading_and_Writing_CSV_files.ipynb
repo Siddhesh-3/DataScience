{
  "nbformat": 4,
  "nbformat_minor": 0,
  "metadata": {
    "colab": {
      "name": "Reading and Writing CSV files",
      "provenance": [],
      "authorship_tag": "ABX9TyM+nkZWt+7vtA7hkeaTh86Q",
      "include_colab_link": true
    },
    "kernelspec": {
      "name": "python3",
      "display_name": "Python 3"
    },
    "language_info": {
      "name": "python"
    }
  },
  "cells": [
    {
      "cell_type": "markdown",
      "metadata": {
        "id": "view-in-github",
        "colab_type": "text"
      },
      "source": [
        "<a href=\"https://colab.research.google.com/github/Siddhesh-3/DataScience/blob/main/Reading_and_Writing_CSV_files.ipynb\" target=\"_parent\"><img src=\"https://colab.research.google.com/assets/colab-badge.svg\" alt=\"Open In Colab\"/></a>"
      ]
    },
    {
      "cell_type": "code",
      "metadata": {
        "id": "PBoVW8VLpm40"
      },
      "source": [
        "import csv"
      ],
      "execution_count": null,
      "outputs": []
    },
    {
      "cell_type": "code",
      "metadata": {
        "colab": {
          "base_uri": "https://localhost:8080/"
        },
        "id": "phxERZgUtJ0f",
        "outputId": "73315fb9-df17-4a11-d796-5549f555613e"
      },
      "source": [
        "%precision 2\n",
        "\n",
        "with open('mpg.csv') as csvfile:\n",
        "  mpg = list(csv.DictReader(csvfile))\n",
        "\n",
        "mpg[23:24]\n",
        "\n"
      ],
      "execution_count": 40,
      "outputs": [
        {
          "output_type": "execute_result",
          "data": {
            "text/plain": [
              "[OrderedDict([('', '24'),\n",
              "              ('manufacturer', 'chevrolet'),\n",
              "              ('model', 'corvette'),\n",
              "              ('displ', '5.7'),\n",
              "              ('year', '1999'),\n",
              "              ('cyl', '8'),\n",
              "              ('trans', 'manual(m6)'),\n",
              "              ('drv', 'r'),\n",
              "              ('cty', '16'),\n",
              "              ('hwy', '26'),\n",
              "              ('fl', 'p'),\n",
              "              ('class', '2seater')])]"
            ]
          },
          "metadata": {
            "tags": []
          },
          "execution_count": 40
        }
      ]
    },
    {
      "cell_type": "code",
      "metadata": {
        "id": "IgRMbdOrucTA",
        "colab": {
          "base_uri": "https://localhost:8080/"
        },
        "outputId": "35d805b5-4a84-424a-b0f2-fa840697bef5"
      },
      "source": [
        "len(mpg)"
      ],
      "execution_count": null,
      "outputs": [
        {
          "output_type": "execute_result",
          "data": {
            "text/plain": [
              "234"
            ]
          },
          "metadata": {
            "tags": []
          },
          "execution_count": 13
        }
      ]
    },
    {
      "cell_type": "code",
      "metadata": {
        "colab": {
          "base_uri": "https://localhost:8080/"
        },
        "id": "aeurehMxupgX",
        "outputId": "d3a0b90c-6df5-4fdb-8ecf-072d722b4f6a"
      },
      "source": [
        "mpg[0].keys()"
      ],
      "execution_count": null,
      "outputs": [
        {
          "output_type": "execute_result",
          "data": {
            "text/plain": [
              "odict_keys(['', 'manufacturer', 'model', 'displ', 'year', 'cyl', 'trans', 'drv', 'cty', 'hwy', 'fl', 'class'])"
            ]
          },
          "metadata": {
            "tags": []
          },
          "execution_count": 14
        }
      ]
    },
    {
      "cell_type": "code",
      "metadata": {
        "colab": {
          "base_uri": "https://localhost:8080/"
        },
        "id": "PftEdUIovQ9O",
        "outputId": "53bd9838-cc07-4764-89b3-b4a9efc6824c"
      },
      "source": [
        "sum(float(d['cty']) for d in mpg) / len(mpg)"
      ],
      "execution_count": null,
      "outputs": [
        {
          "output_type": "execute_result",
          "data": {
            "text/plain": [
              "16.86"
            ]
          },
          "metadata": {
            "tags": []
          },
          "execution_count": 16
        }
      ]
    },
    {
      "cell_type": "code",
      "metadata": {
        "colab": {
          "base_uri": "https://localhost:8080/"
        },
        "id": "uvv6PNa_v1sO",
        "outputId": "18f23dc5-1b54-436a-d44c-c83cc4980ae8"
      },
      "source": [
        "sum(float(d['hwy']) for d in mpg) / len(mpg)"
      ],
      "execution_count": null,
      "outputs": [
        {
          "output_type": "execute_result",
          "data": {
            "text/plain": [
              "23.44"
            ]
          },
          "metadata": {
            "tags": []
          },
          "execution_count": 17
        }
      ]
    },
    {
      "cell_type": "code",
      "metadata": {
        "colab": {
          "base_uri": "https://localhost:8080/"
        },
        "id": "OiMLtTk2wXVF",
        "outputId": "b982fc4b-6bda-4591-e615-18ec7cf4b91a"
      },
      "source": [
        "cylinders = set(d['cyl'] for d in mpg)\n",
        "cylinders"
      ],
      "execution_count": null,
      "outputs": [
        {
          "output_type": "execute_result",
          "data": {
            "text/plain": [
              "{'4', '5', '6', '8'}"
            ]
          },
          "metadata": {
            "tags": []
          },
          "execution_count": 20
        }
      ]
    },
    {
      "cell_type": "code",
      "metadata": {
        "colab": {
          "base_uri": "https://localhost:8080/"
        },
        "id": "LAJ0Z24IwjXQ",
        "outputId": "7e175893-1f7b-459f-a7c6-3881c9b21e79"
      },
      "source": [
        "CtyMpgByCyl = []\n",
        "\n",
        "for c in cylinders:\n",
        "  summpg = 0\n",
        "  cyltypecount = 0\n",
        "  for d in mpg:\n",
        "    if d['cyl'] == c:\n",
        "      summpg += float(d['cty'])\n",
        "      cyltypecount += 1\n",
        "  CtyMpgByCyl.append((c, summpg / cyltypecount))\n",
        "\n",
        "CtyMpgByCyl.sort(key = lambda x: x[0])\n",
        "CtyMpgByCyl      "
      ],
      "execution_count": null,
      "outputs": [
        {
          "output_type": "execute_result",
          "data": {
            "text/plain": [
              "[('4', 21.01), ('5', 20.50), ('6', 16.22), ('8', 12.57)]"
            ]
          },
          "metadata": {
            "tags": []
          },
          "execution_count": 32
        }
      ]
    },
    {
      "cell_type": "code",
      "metadata": {
        "colab": {
          "base_uri": "https://localhost:8080/"
        },
        "id": "PM-BAqYGDfQI",
        "outputId": "37d3680c-8f5a-459e-d2ef-0950fc3fa3cc"
      },
      "source": [
        "vechicleclass = set(d['class'] for d in mpg)\n",
        "vechicleclass"
      ],
      "execution_count": 49,
      "outputs": [
        {
          "output_type": "execute_result",
          "data": {
            "text/plain": [
              "{'2seater', 'compact', 'midsize', 'minivan', 'pickup', 'subcompact', 'suv'}"
            ]
          },
          "metadata": {
            "tags": []
          },
          "execution_count": 49
        }
      ]
    },
    {
      "cell_type": "code",
      "metadata": {
        "colab": {
          "base_uri": "https://localhost:8080/"
        },
        "id": "B8g8pyAVDtF2",
        "outputId": "0e2277e0-3c0b-4f71-99d0-a607ee1e5b70"
      },
      "source": [
        "HwyMpgByClass = []\n",
        "\n",
        "for t in vechicleclass:\n",
        "  summpg = 0\n",
        "  vclasscount = 0\n",
        "  for d in mpg:\n",
        "    if d['class'] == t:\n",
        "      summpg += float(d['hwy'])\n",
        "      vclasscount += 1\n",
        "  HwyMpgByClass.append((t, summpg / vclasscount))    \n",
        "HwyMpgByClass.sort(key=lambda x:x[1])\n",
        "HwyMpgByClass   "
      ],
      "execution_count": 53,
      "outputs": [
        {
          "output_type": "execute_result",
          "data": {
            "text/plain": [
              "[('pickup', 16.88),\n",
              " ('suv', 18.13),\n",
              " ('minivan', 22.36),\n",
              " ('2seater', 24.80),\n",
              " ('midsize', 27.29),\n",
              " ('subcompact', 28.14),\n",
              " ('compact', 28.30)]"
            ]
          },
          "metadata": {
            "tags": []
          },
          "execution_count": 53
        }
      ]
    }
  ]
}