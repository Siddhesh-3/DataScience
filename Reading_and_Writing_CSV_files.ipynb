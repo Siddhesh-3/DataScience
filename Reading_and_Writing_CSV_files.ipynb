{
  "nbformat": 4,
  "nbformat_minor": 0,
  "metadata": {
    "colab": {
      "name": "Reading and Writing CSV files",
      "provenance": [],
      "authorship_tag": "ABX9TyOecEE8MQCbMNCAs41cQKwn",
      "include_colab_link": true
    },
    "kernelspec": {
      "name": "python3",
      "display_name": "Python 3"
    },
    "language_info": {
      "name": "python"
    }
  },
  "cells": [
    {
      "cell_type": "markdown",
      "metadata": {
        "id": "view-in-github",
        "colab_type": "text"
      },
      "source": [
        "<a href=\"https://colab.research.google.com/github/Siddhesh-3/DataScience/blob/main/Reading_and_Writing_CSV_files.ipynb\" target=\"_parent\"><img src=\"https://colab.research.google.com/assets/colab-badge.svg\" alt=\"Open In Colab\"/></a>"
      ]
    },
    {
      "cell_type": "code",
      "metadata": {
        "id": "PBoVW8VLpm40"
      },
      "source": [
        "import csv"
      ],
      "execution_count": null,
      "outputs": []
    },
    {
      "cell_type": "code",
      "metadata": {
        "colab": {
          "base_uri": "https://localhost:8080/"
        },
        "id": "phxERZgUtJ0f",
        "outputId": "264944d7-4b04-4bfc-a08c-b27e8e20a3b9"
      },
      "source": [
        "%precision 2\n",
        "\n",
        "with open('mpg.csv') as csvfile:\n",
        "  mpg = list(csv.DictReader(csvfile))\n",
        "\n",
        "mpg[7:24]\n",
        "\n"
      ],
      "execution_count": null,
      "outputs": [
        {
          "output_type": "execute_result",
          "data": {
            "text/plain": [
              "[OrderedDict([('', '8'),\n",
              "              ('manufacturer', 'audi'),\n",
              "              ('model', 'a4 quattro'),\n",
              "              ('displ', '1.8'),\n",
              "              ('year', '1999'),\n",
              "              ('cyl', '4'),\n",
              "              ('trans', 'manual(m5)'),\n",
              "              ('drv', '4'),\n",
              "              ('cty', '18'),\n",
              "              ('hwy', '26'),\n",
              "              ('fl', 'p'),\n",
              "              ('class', 'compact')]),\n",
              " OrderedDict([('', '9'),\n",
              "              ('manufacturer', 'audi'),\n",
              "              ('model', 'a4 quattro'),\n",
              "              ('displ', '1.8'),\n",
              "              ('year', '1999'),\n",
              "              ('cyl', '4'),\n",
              "              ('trans', 'auto(l5)'),\n",
              "              ('drv', '4'),\n",
              "              ('cty', '16'),\n",
              "              ('hwy', '25'),\n",
              "              ('fl', 'p'),\n",
              "              ('class', 'compact')]),\n",
              " OrderedDict([('', '10'),\n",
              "              ('manufacturer', 'audi'),\n",
              "              ('model', 'a4 quattro'),\n",
              "              ('displ', '2'),\n",
              "              ('year', '2008'),\n",
              "              ('cyl', '4'),\n",
              "              ('trans', 'manual(m6)'),\n",
              "              ('drv', '4'),\n",
              "              ('cty', '20'),\n",
              "              ('hwy', '28'),\n",
              "              ('fl', 'p'),\n",
              "              ('class', 'compact')]),\n",
              " OrderedDict([('', '11'),\n",
              "              ('manufacturer', 'audi'),\n",
              "              ('model', 'a4 quattro'),\n",
              "              ('displ', '2'),\n",
              "              ('year', '2008'),\n",
              "              ('cyl', '4'),\n",
              "              ('trans', 'auto(s6)'),\n",
              "              ('drv', '4'),\n",
              "              ('cty', '19'),\n",
              "              ('hwy', '27'),\n",
              "              ('fl', 'p'),\n",
              "              ('class', 'compact')]),\n",
              " OrderedDict([('', '12'),\n",
              "              ('manufacturer', 'audi'),\n",
              "              ('model', 'a4 quattro'),\n",
              "              ('displ', '2.8'),\n",
              "              ('year', '1999'),\n",
              "              ('cyl', '6'),\n",
              "              ('trans', 'auto(l5)'),\n",
              "              ('drv', '4'),\n",
              "              ('cty', '15'),\n",
              "              ('hwy', '25'),\n",
              "              ('fl', 'p'),\n",
              "              ('class', 'compact')]),\n",
              " OrderedDict([('', '13'),\n",
              "              ('manufacturer', 'audi'),\n",
              "              ('model', 'a4 quattro'),\n",
              "              ('displ', '2.8'),\n",
              "              ('year', '1999'),\n",
              "              ('cyl', '6'),\n",
              "              ('trans', 'manual(m5)'),\n",
              "              ('drv', '4'),\n",
              "              ('cty', '17'),\n",
              "              ('hwy', '25'),\n",
              "              ('fl', 'p'),\n",
              "              ('class', 'compact')]),\n",
              " OrderedDict([('', '14'),\n",
              "              ('manufacturer', 'audi'),\n",
              "              ('model', 'a4 quattro'),\n",
              "              ('displ', '3.1'),\n",
              "              ('year', '2008'),\n",
              "              ('cyl', '6'),\n",
              "              ('trans', 'auto(s6)'),\n",
              "              ('drv', '4'),\n",
              "              ('cty', '17'),\n",
              "              ('hwy', '25'),\n",
              "              ('fl', 'p'),\n",
              "              ('class', 'compact')]),\n",
              " OrderedDict([('', '15'),\n",
              "              ('manufacturer', 'audi'),\n",
              "              ('model', 'a4 quattro'),\n",
              "              ('displ', '3.1'),\n",
              "              ('year', '2008'),\n",
              "              ('cyl', '6'),\n",
              "              ('trans', 'manual(m6)'),\n",
              "              ('drv', '4'),\n",
              "              ('cty', '15'),\n",
              "              ('hwy', '25'),\n",
              "              ('fl', 'p'),\n",
              "              ('class', 'compact')]),\n",
              " OrderedDict([('', '16'),\n",
              "              ('manufacturer', 'audi'),\n",
              "              ('model', 'a6 quattro'),\n",
              "              ('displ', '2.8'),\n",
              "              ('year', '1999'),\n",
              "              ('cyl', '6'),\n",
              "              ('trans', 'auto(l5)'),\n",
              "              ('drv', '4'),\n",
              "              ('cty', '15'),\n",
              "              ('hwy', '24'),\n",
              "              ('fl', 'p'),\n",
              "              ('class', 'midsize')]),\n",
              " OrderedDict([('', '17'),\n",
              "              ('manufacturer', 'audi'),\n",
              "              ('model', 'a6 quattro'),\n",
              "              ('displ', '3.1'),\n",
              "              ('year', '2008'),\n",
              "              ('cyl', '6'),\n",
              "              ('trans', 'auto(s6)'),\n",
              "              ('drv', '4'),\n",
              "              ('cty', '17'),\n",
              "              ('hwy', '25'),\n",
              "              ('fl', 'p'),\n",
              "              ('class', 'midsize')]),\n",
              " OrderedDict([('', '18'),\n",
              "              ('manufacturer', 'audi'),\n",
              "              ('model', 'a6 quattro'),\n",
              "              ('displ', '4.2'),\n",
              "              ('year', '2008'),\n",
              "              ('cyl', '8'),\n",
              "              ('trans', 'auto(s6)'),\n",
              "              ('drv', '4'),\n",
              "              ('cty', '16'),\n",
              "              ('hwy', '23'),\n",
              "              ('fl', 'p'),\n",
              "              ('class', 'midsize')]),\n",
              " OrderedDict([('', '19'),\n",
              "              ('manufacturer', 'chevrolet'),\n",
              "              ('model', 'c1500 suburban 2wd'),\n",
              "              ('displ', '5.3'),\n",
              "              ('year', '2008'),\n",
              "              ('cyl', '8'),\n",
              "              ('trans', 'auto(l4)'),\n",
              "              ('drv', 'r'),\n",
              "              ('cty', '14'),\n",
              "              ('hwy', '20'),\n",
              "              ('fl', 'r'),\n",
              "              ('class', 'suv')]),\n",
              " OrderedDict([('', '20'),\n",
              "              ('manufacturer', 'chevrolet'),\n",
              "              ('model', 'c1500 suburban 2wd'),\n",
              "              ('displ', '5.3'),\n",
              "              ('year', '2008'),\n",
              "              ('cyl', '8'),\n",
              "              ('trans', 'auto(l4)'),\n",
              "              ('drv', 'r'),\n",
              "              ('cty', '11'),\n",
              "              ('hwy', '15'),\n",
              "              ('fl', 'e'),\n",
              "              ('class', 'suv')]),\n",
              " OrderedDict([('', '21'),\n",
              "              ('manufacturer', 'chevrolet'),\n",
              "              ('model', 'c1500 suburban 2wd'),\n",
              "              ('displ', '5.3'),\n",
              "              ('year', '2008'),\n",
              "              ('cyl', '8'),\n",
              "              ('trans', 'auto(l4)'),\n",
              "              ('drv', 'r'),\n",
              "              ('cty', '14'),\n",
              "              ('hwy', '20'),\n",
              "              ('fl', 'r'),\n",
              "              ('class', 'suv')]),\n",
              " OrderedDict([('', '22'),\n",
              "              ('manufacturer', 'chevrolet'),\n",
              "              ('model', 'c1500 suburban 2wd'),\n",
              "              ('displ', '5.7'),\n",
              "              ('year', '1999'),\n",
              "              ('cyl', '8'),\n",
              "              ('trans', 'auto(l4)'),\n",
              "              ('drv', 'r'),\n",
              "              ('cty', '13'),\n",
              "              ('hwy', '17'),\n",
              "              ('fl', 'r'),\n",
              "              ('class', 'suv')]),\n",
              " OrderedDict([('', '23'),\n",
              "              ('manufacturer', 'chevrolet'),\n",
              "              ('model', 'c1500 suburban 2wd'),\n",
              "              ('displ', '6'),\n",
              "              ('year', '2008'),\n",
              "              ('cyl', '8'),\n",
              "              ('trans', 'auto(l4)'),\n",
              "              ('drv', 'r'),\n",
              "              ('cty', '12'),\n",
              "              ('hwy', '17'),\n",
              "              ('fl', 'r'),\n",
              "              ('class', 'suv')]),\n",
              " OrderedDict([('', '24'),\n",
              "              ('manufacturer', 'chevrolet'),\n",
              "              ('model', 'corvette'),\n",
              "              ('displ', '5.7'),\n",
              "              ('year', '1999'),\n",
              "              ('cyl', '8'),\n",
              "              ('trans', 'manual(m6)'),\n",
              "              ('drv', 'r'),\n",
              "              ('cty', '16'),\n",
              "              ('hwy', '26'),\n",
              "              ('fl', 'p'),\n",
              "              ('class', '2seater')])]"
            ]
          },
          "metadata": {
            "tags": []
          },
          "execution_count": 38
        }
      ]
    },
    {
      "cell_type": "code",
      "metadata": {
        "id": "IgRMbdOrucTA",
        "colab": {
          "base_uri": "https://localhost:8080/"
        },
        "outputId": "35d805b5-4a84-424a-b0f2-fa840697bef5"
      },
      "source": [
        "len(mpg)"
      ],
      "execution_count": null,
      "outputs": [
        {
          "output_type": "execute_result",
          "data": {
            "text/plain": [
              "234"
            ]
          },
          "metadata": {
            "tags": []
          },
          "execution_count": 13
        }
      ]
    },
    {
      "cell_type": "code",
      "metadata": {
        "colab": {
          "base_uri": "https://localhost:8080/"
        },
        "id": "aeurehMxupgX",
        "outputId": "d3a0b90c-6df5-4fdb-8ecf-072d722b4f6a"
      },
      "source": [
        "mpg[0].keys()"
      ],
      "execution_count": null,
      "outputs": [
        {
          "output_type": "execute_result",
          "data": {
            "text/plain": [
              "odict_keys(['', 'manufacturer', 'model', 'displ', 'year', 'cyl', 'trans', 'drv', 'cty', 'hwy', 'fl', 'class'])"
            ]
          },
          "metadata": {
            "tags": []
          },
          "execution_count": 14
        }
      ]
    },
    {
      "cell_type": "code",
      "metadata": {
        "colab": {
          "base_uri": "https://localhost:8080/"
        },
        "id": "PftEdUIovQ9O",
        "outputId": "53bd9838-cc07-4764-89b3-b4a9efc6824c"
      },
      "source": [
        "sum(float(d['cty']) for d in mpg) / len(mpg)"
      ],
      "execution_count": null,
      "outputs": [
        {
          "output_type": "execute_result",
          "data": {
            "text/plain": [
              "16.86"
            ]
          },
          "metadata": {
            "tags": []
          },
          "execution_count": 16
        }
      ]
    },
    {
      "cell_type": "code",
      "metadata": {
        "colab": {
          "base_uri": "https://localhost:8080/"
        },
        "id": "uvv6PNa_v1sO",
        "outputId": "18f23dc5-1b54-436a-d44c-c83cc4980ae8"
      },
      "source": [
        "sum(float(d['hwy']) for d in mpg) / len(mpg)"
      ],
      "execution_count": null,
      "outputs": [
        {
          "output_type": "execute_result",
          "data": {
            "text/plain": [
              "23.44"
            ]
          },
          "metadata": {
            "tags": []
          },
          "execution_count": 17
        }
      ]
    },
    {
      "cell_type": "code",
      "metadata": {
        "colab": {
          "base_uri": "https://localhost:8080/"
        },
        "id": "OiMLtTk2wXVF",
        "outputId": "b982fc4b-6bda-4591-e615-18ec7cf4b91a"
      },
      "source": [
        "cylinders = set(d['cyl'] for d in mpg)\n",
        "cylinders"
      ],
      "execution_count": null,
      "outputs": [
        {
          "output_type": "execute_result",
          "data": {
            "text/plain": [
              "{'4', '5', '6', '8'}"
            ]
          },
          "metadata": {
            "tags": []
          },
          "execution_count": 20
        }
      ]
    },
    {
      "cell_type": "code",
      "metadata": {
        "colab": {
          "base_uri": "https://localhost:8080/"
        },
        "id": "LAJ0Z24IwjXQ",
        "outputId": "7e175893-1f7b-459f-a7c6-3881c9b21e79"
      },
      "source": [
        "CtyMpgByCyl = []\n",
        "\n",
        "for c in cylinders:\n",
        "  summpg = 0\n",
        "  cyltypecount = 0\n",
        "  for d in mpg:\n",
        "    if d['cyl'] == c:\n",
        "      summpg += float(d['cty'])\n",
        "      cyltypecount += 1\n",
        "  CtyMpgByCyl.append((c, summpg / cyltypecount))\n",
        "\n",
        "CtyMpgByCyl.sort(key = lambda x: x[0])\n",
        "CtyMpgByCyl      "
      ],
      "execution_count": null,
      "outputs": [
        {
          "output_type": "execute_result",
          "data": {
            "text/plain": [
              "[('4', 21.01), ('5', 20.50), ('6', 16.22), ('8', 12.57)]"
            ]
          },
          "metadata": {
            "tags": []
          },
          "execution_count": 32
        }
      ]
    }
  ]
}